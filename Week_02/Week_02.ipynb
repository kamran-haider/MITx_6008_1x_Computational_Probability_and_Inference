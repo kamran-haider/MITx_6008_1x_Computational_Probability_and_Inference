{
 "cells": [
  {
   "cell_type": "markdown",
   "metadata": {},
   "source": [
    "### Conditioning and Bayes' Theorem"
   ]
  },
  {
   "cell_type": "markdown",
   "metadata": {},
   "source": [
    "##### General form for the law of total probability\n",
    "If we have an event for which it's not straight-forward to obtain its probability but it is conditioned on another event.\n",
    "Let's say we have informatiom about the conditioning event $B$ which can take one of many outcomes $B_1, B_2, B_3, \\dots, B_n$. \n",
    "If we also know that:\n",
    "\n",
    "$\\forall$ $k \\ne l, B_k \\cap B_l = \\emptyset$ and\n",
    "\n",
    "$\\cup_{i=1}^nB_i = \\Omega $\n",
    "\n",
    "Then we can express the total probability of $A$ as:\n",
    "\n",
    "$P(A) = \\sum_{i=1}^nP(A\\cap B_i)$\n",
    "\n",
    "Furthermore, we can use product rule to express $P(A\\cap B_i)$ as $P(A|B_i)P(B_i)$"
   ]
  },
  {
   "cell_type": "code",
   "execution_count": null,
   "metadata": {
    "collapsed": true
   },
   "outputs": [],
   "source": []
  }
 ],
 "metadata": {
  "kernelspec": {
   "display_name": "Python [Root]",
   "language": "python",
   "name": "Python [Root]"
  },
  "language_info": {
   "codemirror_mode": {
    "name": "ipython",
    "version": 2
   },
   "file_extension": ".py",
   "mimetype": "text/x-python",
   "name": "python",
   "nbconvert_exporter": "python",
   "pygments_lexer": "ipython2",
   "version": "2.7.11"
  }
 },
 "nbformat": 4,
 "nbformat_minor": 0
}
