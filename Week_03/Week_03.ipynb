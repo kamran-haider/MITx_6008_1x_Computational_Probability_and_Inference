{
 "cells": [
  {
   "cell_type": "code",
   "execution_count": 2,
   "metadata": {
    "collapsed": true
   },
   "outputs": [],
   "source": [
    "import numpy as np\n",
    "from __future__ import division"
   ]
  },
  {
   "cell_type": "markdown",
   "metadata": {},
   "source": [
    "### Bayes' Theorem for Random Variables"
   ]
  },
  {
   "cell_type": "markdown",
   "metadata": {},
   "source": [
    "Let's reason about Bayes' Theorem as a computational procedure.\n",
    "\n",
    "We start by observing $Y = y$\n",
    "\n",
    "* $X$ can take value $x$ with probability $P(X=x) = p_X(x)$ based on our prior knowledge, But now that we have observed $Y = y$, this changes. We can represent this change as a weighting of the original probability $p_X(x)$ by a factor, which happens to be $p_{Y|X}(y|x)$. Hence, our belief of how plausible $X = x$ becomes:\n",
    "\n",
    "  $\\alpha(x|y) \\triangleq p_X(x)p_{Y|X}(y|x)$\n",
    "  This is equivalent to creating a new probability table $\\alpha(\\cdot | y)$ but note that this is no longer guaranteed to be normalized.\n",
    "  \n",
    "* Consequently, the next step is re-normalization. Based on what we know about probabilities and how to make them normalized, we can write:\n",
    "  $p_{X|Y}(x | y) = \\frac{\\alpha(\\cdot|y)}{\\sum_{x^{\\prime}}\\alpha(x^{\\prime}|y)}$"
   ]
  },
  {
   "cell_type": "markdown",
   "metadata": {
    "collapsed": true
   },
   "source": [
    "To sum it up:\n",
    "\n",
    "$p_{X|Y}(x|y) = \\frac{p_X(x)p_{Y|X}(y|x)}{\\sum_{x^{\\prime}}p_X(x^{\\prime})p_{Y|X}(y|x^{\\prime})}$\n",
    "\n",
    "So we are framing our problem into the problem of computing poster probability distribution $p_{X|Y}(x|y)$. For this purpose, we use the famous Bayes' theorem."
   ]
  },
  {
   "cell_type": "markdown",
   "metadata": {},
   "source": [
    "### Maximum A Posteriori Distribution (MAP)\n",
    "\n",
    "Often we are interested in reporting which values of $X$ has the highest posterior probability. This value is called _maximum a posteriori_ (MAP) estimate of $X$ given $Y = y$. It is denoted as $\\hat{x}_{MAP}(y)$ and is given by:\n",
    "\n",
    "$\\hat{x}_{MAP}(y) = \\operatorname*{arg\\,max}_x p_{X|Y}(x|y)$\n",
    "\n",
    "A note on notation: The keyword $arg$ means that we are interested in the argument of the function $p_{X|Y}(x|y)$ that maximizes the poster probability i.e., the value of x."
   ]
  },
  {
   "cell_type": "markdown",
   "metadata": {
    "collapsed": true
   },
   "source": [
    "### Checking for independence\n"
   ]
  },
  {
   "cell_type": "code",
   "execution_count": 18,
   "metadata": {
    "collapsed": false
   },
   "outputs": [
    {
     "name": "stdout",
     "output_type": "stream",
     "text": [
      "[[ 0.5         0.        ]\n",
      " [ 0.          0.16666667]\n",
      " [ 0.          0.33333333]]\n"
     ]
    }
   ],
   "source": [
    "# Joing probability distribution of W and I\n",
    "prob_W_I = np.array([[1/2, 0], [0, 1/6], [0, 1/3]])\n",
    "# We can generate marginal probabilities\n",
    "prob_W = prob_W_I.sum(axis=1)\n",
    "prob_I = prob_W_I.sum(axis=0)\n",
    "\n",
    "print prob_W_I"
   ]
  },
  {
   "cell_type": "code",
   "execution_count": 15,
   "metadata": {
    "collapsed": false
   },
   "outputs": [
    {
     "name": "stdout",
     "output_type": "stream",
     "text": [
      "[[ 0.25        0.25      ]\n",
      " [ 0.08333333  0.08333333]\n",
      " [ 0.16666667  0.16666667]]\n"
     ]
    }
   ],
   "source": [
    "test_prob_W_I = np.outer(prob_W, prob_I)\n",
    "print test_prob_W_I"
   ]
  },
  {
   "cell_type": "code",
   "execution_count": 1,
   "metadata": {
    "collapsed": false
   },
   "outputs": [
    {
     "ename": "NameError",
     "evalue": "name 'np' is not defined",
     "output_type": "error",
     "traceback": [
      "\u001b[0;31m---------------------------------------------------------------------------\u001b[0m",
      "\u001b[0;31mNameError\u001b[0m                                 Traceback (most recent call last)",
      "\u001b[0;32m<ipython-input-1-5c00154280b0>\u001b[0m in \u001b[0;36m<module>\u001b[0;34m()\u001b[0m\n\u001b[1;32m      1\u001b[0m \u001b[0;31m# Joing probability distribution of W and I\u001b[0m\u001b[0;34m\u001b[0m\u001b[0;34m\u001b[0m\u001b[0m\n\u001b[0;32m----> 2\u001b[0;31m \u001b[0mprob_X_Y\u001b[0m \u001b[0;34m=\u001b[0m \u001b[0mnp\u001b[0m\u001b[0;34m.\u001b[0m\u001b[0marray\u001b[0m\u001b[0;34m(\u001b[0m\u001b[0;34m[\u001b[0m\u001b[0;34m[\u001b[0m\u001b[0;36m1\u001b[0m\u001b[0;34m/\u001b[0m\u001b[0;36m4\u001b[0m\u001b[0;34m,\u001b[0m \u001b[0;36m1\u001b[0m\u001b[0;34m/\u001b[0m\u001b[0;36m4\u001b[0m\u001b[0;34m]\u001b[0m\u001b[0;34m,\u001b[0m \u001b[0;34m[\u001b[0m\u001b[0;36m1\u001b[0m\u001b[0;34m/\u001b[0m\u001b[0;36m12\u001b[0m\u001b[0;34m,\u001b[0m \u001b[0;36m1\u001b[0m\u001b[0;34m/\u001b[0m\u001b[0;36m12\u001b[0m\u001b[0;34m]\u001b[0m\u001b[0;34m,\u001b[0m \u001b[0;34m[\u001b[0m\u001b[0;36m1\u001b[0m\u001b[0;34m/\u001b[0m\u001b[0;36m6\u001b[0m\u001b[0;34m,\u001b[0m \u001b[0;36m1\u001b[0m\u001b[0;34m/\u001b[0m\u001b[0;36m6\u001b[0m\u001b[0;34m]\u001b[0m\u001b[0;34m]\u001b[0m\u001b[0;34m)\u001b[0m\u001b[0;34m\u001b[0m\u001b[0m\n\u001b[0m\u001b[1;32m      3\u001b[0m \u001b[0;31m# We can generate marginal probabilities\u001b[0m\u001b[0;34m\u001b[0m\u001b[0;34m\u001b[0m\u001b[0m\n\u001b[1;32m      4\u001b[0m \u001b[0mprob_X\u001b[0m \u001b[0;34m=\u001b[0m \u001b[0mprob_X_Y\u001b[0m\u001b[0;34m.\u001b[0m\u001b[0msum\u001b[0m\u001b[0;34m(\u001b[0m\u001b[0maxis\u001b[0m\u001b[0;34m=\u001b[0m\u001b[0;36m1\u001b[0m\u001b[0;34m)\u001b[0m\u001b[0;34m\u001b[0m\u001b[0m\n\u001b[1;32m      5\u001b[0m \u001b[0mprob_Y\u001b[0m \u001b[0;34m=\u001b[0m \u001b[0mprob_X_Y\u001b[0m\u001b[0;34m.\u001b[0m\u001b[0msum\u001b[0m\u001b[0;34m(\u001b[0m\u001b[0maxis\u001b[0m\u001b[0;34m=\u001b[0m\u001b[0;36m0\u001b[0m\u001b[0;34m)\u001b[0m\u001b[0;34m\u001b[0m\u001b[0m\n",
      "\u001b[0;31mNameError\u001b[0m: name 'np' is not defined"
     ]
    }
   ],
   "source": [
    "# Joing probability distribution of W and I\n",
    "prob_X_Y = np.array([[1/4, 1/4], [1/12, 1/12], [1/6, 1/6]])\n",
    "# We can generate marginal probabilities\n",
    "prob_X = prob_X_Y.sum(axis=1)\n",
    "prob_Y = prob_X_Y.sum(axis=0)\n",
    "\n",
    "print prob_X_Y\n",
    "test_prob_X_Y = np.outer(prob_X, prob_Y)\n",
    "print test_prob_X_Y"
   ]
  },
  {
   "cell_type": "markdown",
   "metadata": {},
   "source": [
    "### Conditional Independence\n",
    "The idea of conditional independence:\n",
    "The definition of conditional independence follows from the general definition of independence, i.e.,\n",
    "$X \\perp Y$, if\n",
    "$p_{X, Y}(x, y) = p_X(x)p_Y(y)$\n",
    "Similarly, $X$ and $Y$ are conditionally indpendent give $Z$, if:\n"
   ]
  },
  {
   "cell_type": "code",
   "execution_count": null,
   "metadata": {
    "collapsed": true
   },
   "outputs": [],
   "source": []
  }
 ],
 "metadata": {
  "anaconda-cloud": {},
  "kernelspec": {
   "display_name": "Python [default]",
   "language": "python",
   "name": "python2"
  },
  "language_info": {
   "codemirror_mode": {
    "name": "ipython",
    "version": 2
   },
   "file_extension": ".py",
   "mimetype": "text/x-python",
   "name": "python",
   "nbconvert_exporter": "python",
   "pygments_lexer": "ipython2",
   "version": "2.7.12"
  }
 },
 "nbformat": 4,
 "nbformat_minor": 0
}
