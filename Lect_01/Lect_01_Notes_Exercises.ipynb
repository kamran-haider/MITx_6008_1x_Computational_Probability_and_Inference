{
 "cells": [
  {
   "cell_type": "markdown",
   "metadata": {},
   "source": [
    "## Notes/Exercies from Lecture 01"
   ]
  },
  {
   "cell_type": "markdown",
   "metadata": {},
   "source": [
    "### Useful Notation\n",
    "\n",
    "A key concept we are concerned with in this course is the idea of probability spaces. A _finite probability space_ consists of two ingredients.\n",
    "- a sample space $\\Omega$ consisting of a finite number of mutually exclusive and collectively exhaustive possible outcomes.\n",
    "- a probbaility law, such that for each possible outcome $\\omega \\in \\Omega$, we assign some probability $0 \\ge \\mathbb{P}(\\omega) \\le 1$."
   ]
  },
  {
   "cell_type": "markdown",
   "metadata": {},
   "source": [
    "### Probabilities with Events\n",
    "\n",
    "While probability spaces are made up of a finite number of possible outcomes, however, an experiment can consist of events that are represented by a set of outcomes. The set may be just one possible outcome or some combination of multiple outcomes. Therefore, sets are a natural choice of mathematical (and even computational) objects to deal with probabilities of events. Here is some code for demo."
   ]
  },
  {
   "cell_type": "code",
   "execution_count": 11,
   "metadata": {
    "collapsed": false
   },
   "outputs": [
    {
     "name": "stdout",
     "output_type": "stream",
     "text": [
      "{'HT'}\n",
      "{'TT', 'HH', 'HT'}\n",
      "{'TT'}\n"
     ]
    }
   ],
   "source": [
    "# A two coin toss\n",
    "sample_space = {'HH', 'HT', 'TH', 'TT'}\n",
    "A = {'HT', 'TT'} \n",
    "B = {'HH', 'HT', 'TH'}\n",
    "C = {'HH'}\n",
    "A_intersect_B = A.intersection(B)\n",
    "A_union_C = A.union(C)\n",
    "B_complement = sample_space.difference(B)\n",
    "\n",
    "print(A_intersect_B)\n",
    "print(A_union_C)\n",
    "print(B_complement)"
   ]
  },
  {
   "cell_type": "markdown",
   "metadata": {},
   "source": [
    "Strictly speaking, we are defining events as subsets of sample space i.e., $A \\in \\Omega$. Based on this, the probability of event $A$, where $A \\subseteq \\Omega$ is given by:\n",
    "$\\mathbb{P}(\\mathcal{A}) \\triangleq \\sum_{\\omega \\in \\mathcal{A}}\\mathbb{P}(\\omega)$.\n",
    "Let's code it up!"
   ]
  },
  {
   "cell_type": "code",
   "execution_count": 14,
   "metadata": {
    "collapsed": true
   },
   "outputs": [],
   "source": [
    "def prob_event(event, prob_space):\n",
    "    \"\"\"Returns probability of an event, based on probability space\n",
    "    Parameters\n",
    "    ----------\n",
    "    proba_space : dict\n",
    "        A dictionary of outcomes and their associated probabilities (assuming valid probablity law)\n",
    "    event : set\n",
    "        A set of outcomes that may or may not exist in the probability space\n",
    "    Returns\n",
    "    -------\n",
    "    total : float\n",
    "        Probability of event, based on $\\sum_{\\omega \\in \\mathcal{A}}\\mathbb{P}(\\omega)$\n",
    "    \"\"\"\n",
    "    total = 0\n",
    "    for outcome in event:\n",
    "        total += prob_space[outcome]\n",
    "    return total"
   ]
  },
  {
   "cell_type": "code",
   "execution_count": 15,
   "metadata": {
    "collapsed": false
   },
   "outputs": [
    {
     "name": "stdout",
     "output_type": "stream",
     "text": [
      "0.5\n"
     ]
    }
   ],
   "source": [
    "prob_space = {'sunny': 1/2, 'rainy': 1/6, 'snowy': 1/3}\n",
    "rainy_or_snowy_event = {'rainy', 'snowy'}\n",
    "print(prob_event(rainy_or_snowy_event, prob_space))\n"
   ]
  },
  {
   "cell_type": "code",
   "execution_count": 17,
   "metadata": {
    "collapsed": false
   },
   "outputs": [
    {
     "name": "stdout",
     "output_type": "stream",
     "text": [
      "0.8\n"
     ]
    }
   ],
   "source": [
    "#Exercise\n",
    "model = {'benign': 0.3, 'malignant': 0.5, 'not sure': 0.2}\n",
    "test = {'benign', 'malignant'}\n",
    "print(prob_event(test, model))\n"
   ]
  },
  {
   "cell_type": "code",
   "execution_count": 5,
   "metadata": {
    "collapsed": false
   },
   "outputs": [
    {
     "name": "stdout",
     "output_type": "stream",
     "text": [
      "{(6, 1), (5, 2), (1, 6), (4, 3), (2, 5), (3, 4)}\n"
     ]
    }
   ],
   "source": [
    "dice_A = [1, 2, 3, 4, 5, 6]\n",
    "dice_B = dice_A\n",
    "sample_space = {(i, j) for i in dice_A for j in dice_B}\n",
    "event = []\n",
    "for outcome in sample_space:\n",
    "    if sum(outcome) == 7:\n",
    "        event.append(outcome)\n",
    "print(set(event))"
   ]
  },
  {
   "cell_type": "markdown",
   "metadata": {},
   "source": [
    "### Random Variables\n",
    "First example with random variables:"
   ]
  },
  {
   "cell_type": "code",
   "execution_count": 16,
   "metadata": {
    "collapsed": false
   },
   "outputs": [
    {
     "name": "stdout",
     "output_type": "stream",
     "text": [
      "sunny 1\n",
      "sunny 1\n",
      "snowy 0\n",
      "sunny 1\n",
      "rainy 0\n",
      "sunny 1\n",
      "snowy 0\n",
      "snowy 0\n",
      "sunny 1\n",
      "snowy 0\n"
     ]
    }
   ],
   "source": [
    "import comp_prob_inference\n",
    "prob_space = {'sunny': 1/2, 'rainy': 1/6, 'snowy': 1/3}\n",
    "# W (for weather) is a random variable that can take values specified by the above probability space\n",
    "# We will also define an indicator variable I, that can only take value 1 or 0, based on a condition specified\n",
    "# as part of the indicator variable itself. Both of thee are random variables.\n",
    "for i in range(10):\n",
    "    W = comp_prob_inference.sample_from_finite_probability_space(prob_space)\n",
    "    if W == \"sunny\":\n",
    "        I = 1\n",
    "    else:\n",
    "        I = 0\n",
    "    print(W, I)"
   ]
  },
  {
   "cell_type": "markdown",
   "metadata": {},
   "source": [
    "One interesting way to look at r.v.'s is that they map an underlying sample space to the same set of outcomes as the probability space itself are a set consisting of combinations of outcomes from the sample space.\n",
    "To put more formally, Given a finite probability space $(\\Omega, \\mathbb{P})$, a finite random variable $X$ is a mapping from the sample space to a set of values $\\mathcal{X}$ that $X$ can take. The mapping may or may not ne one-to-one mapping. \n",
    "Now let's look at how do we define random variables in Python code."
   ]
  },
  {
   "cell_type": "code",
   "execution_count": 17,
   "metadata": {
    "collapsed": false
   },
   "outputs": [
    {
     "name": "stdout",
     "output_type": "stream",
     "text": [
      "sunny 1\n"
     ]
    }
   ],
   "source": [
    "#Approach 1: Somewhat follows the mathemtical definition\n",
    "\n",
    "W_mapping = {'sunny': 'sunny', 'rainy': 'rainy', 'snowy': 'snowy'}\n",
    "I_mapping = {'sunny': 1, 'rainy': 0, 'snowy': 0}\n",
    "random_outcome = comp_prob_inference.sample_from_finite_probability_space(prob_space)\n",
    "print(W_mapping[random_outcome], I_mapping[random_outcome])"
   ]
  },
  {
   "cell_type": "code",
   "execution_count": 18,
   "metadata": {
    "collapsed": false
   },
   "outputs": [
    {
     "name": "stdout",
     "output_type": "stream",
     "text": [
      "sunny 1\n"
     ]
    }
   ],
   "source": [
    "#Apprach 2: Write new probability space corresponding to each rv\n",
    "\n",
    "W_table = {'sunny': 1/2, 'rainy': 1/6, 'snowy': 1/3}\n",
    "I_table = {0: 1/2, 1: 1/2}\n",
    "W = comp_prob_inference.sample_from_finite_probability_space(W_table)\n",
    "I = comp_prob_inference.sample_from_finite_probability_space(I_table)\n",
    "print(W, I)"
   ]
  },
  {
   "cell_type": "code",
   "execution_count": 24,
   "metadata": {
    "collapsed": false
   },
   "outputs": [
    {
     "name": "stdout",
     "output_type": "stream",
     "text": [
      "{2: 0.027777777777777776, 3: 0.05555555555555555, 4: 0.08333333333333333, 5: 0.1111111111111111, 6: 0.1388888888888889, 7: 0.16666666666666669, 8: 0.1388888888888889, 9: 0.1111111111111111, 10: 0.08333333333333333, 11: 0.05555555555555555, 12: 0.027777777777777776} 11 1.0000000000000002\n"
     ]
    }
   ],
   "source": [
    "sample_space = {(i, j) for i in dice_A for j in dice_B}\n",
    "X = {}\n",
    "for outcome in sample_space:\n",
    "    if sum(outcome) not in X.keys():\n",
    "        X[sum(outcome)] = 1/36\n",
    "    else:\n",
    "        X[sum(outcome)] += 1/36\n",
    "\n",
    "print(X, len(X.keys()), sum(X.values()))"
   ]
  },
  {
   "cell_type": "code",
   "execution_count": null,
   "metadata": {
    "collapsed": true
   },
   "outputs": [],
   "source": []
  }
 ],
 "metadata": {
  "anaconda-cloud": {},
  "kernelspec": {
   "display_name": "Python [py35]",
   "language": "python",
   "name": "Python [py35]"
  },
  "language_info": {
   "codemirror_mode": {
    "name": "ipython",
    "version": 3
   },
   "file_extension": ".py",
   "mimetype": "text/x-python",
   "name": "python",
   "nbconvert_exporter": "python",
   "pygments_lexer": "ipython3",
   "version": "3.5.1"
  }
 },
 "nbformat": 4,
 "nbformat_minor": 0
}
