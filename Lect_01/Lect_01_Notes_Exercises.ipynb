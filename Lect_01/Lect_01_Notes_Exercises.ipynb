{
 "cells": [
  {
   "cell_type": "markdown",
   "metadata": {},
   "source": [
    "## Notes/Exercies from Lecture 01"
   ]
  },
  {
   "cell_type": "markdown",
   "metadata": {},
   "source": [
    "### Useful Notation\n",
    "\n",
    "A key concept we are concerned with in this course is the idea of probability spaces. A _finite probability space_ consists of two ingredients.\n",
    "- a sample space $\\Omega$ consisting of a finite number of mutually exclusive and collectively exhaustive possible outcomes.\n",
    "- a probbaility law, such that for each possible outcome $\\omega \\in \\Omega$, we assign some probability $0 \\ge \\mathbb{P}(\\omega) \\le 1$."
   ]
  },
  {
   "cell_type": "markdown",
   "metadata": {},
   "source": [
    "### Probabilities with Events\n",
    "\n",
    "While probability spaces are made up of a finite number of possible outcomes, however, an experiment can consist of events that are represented by a set of outcomes. The set may be just one possible outcome or some combination of multiple outcomes. Therefore, sets are a natural choice of mathematical (and even computational) objects to deal with probabilities of events. Here is some code for demo."
   ]
  },
  {
   "cell_type": "code",
   "execution_count": 11,
   "metadata": {
    "collapsed": false
   },
   "outputs": [
    {
     "name": "stdout",
     "output_type": "stream",
     "text": [
      "{'HT'}\n",
      "{'TT', 'HH', 'HT'}\n",
      "{'TT'}\n"
     ]
    }
   ],
   "source": [
    "# A two coin toss\n",
    "sample_space = {'HH', 'HT', 'TH', 'TT'}\n",
    "A = {'HT', 'TT'} \n",
    "B = {'HH', 'HT', 'TH'}\n",
    "C = {'HH'}\n",
    "A_intersect_B = A.intersection(B)\n",
    "A_union_C = A.union(C)\n",
    "B_complement = sample_space.difference(B)\n",
    "\n",
    "print(A_intersect_B)\n",
    "print(A_union_C)\n",
    "print(B_complement)"
   ]
  },
  {
   "cell_type": "markdown",
   "metadata": {},
   "source": [
    "Strictly speaking, we are defining events as subsets of sample space i.e., $A \\in \\Omega$. Based on this, the probability of event $A$, where $A \\subseteq \\Omega$ is given by:\n",
    "$\\mathbb{P}(\\mathcal{A}) \\triangleq \\sum_{\\omega \\in \\mathcal{A}}\\mathbb{P}(\\omega)$.\n",
    "Let's code it up!"
   ]
  },
  {
   "cell_type": "code",
   "execution_count": 14,
   "metadata": {
    "collapsed": true
   },
   "outputs": [],
   "source": [
    "def prob_event(event, prob_space):\n",
    "    \"\"\"Returns probability of an event, based on probability space\n",
    "    Parameters\n",
    "    ----------\n",
    "    proba_space : dict\n",
    "        A dictionary of outcomes and their associated probabilities (assuming valid probablity law)\n",
    "    event : set\n",
    "        A set of outcomes that may or may not exist in the probability space\n",
    "    Returns\n",
    "    -------\n",
    "    total : float\n",
    "        Probability of event, based on $\\sum_{\\omega \\in \\mathcal{A}}\\mathbb{P}(\\omega)$\n",
    "    \"\"\"\n",
    "    total = 0\n",
    "    for outcome in event:\n",
    "        total += prob_space[outcome]\n",
    "    return total"
   ]
  },
  {
   "cell_type": "code",
   "execution_count": 15,
   "metadata": {
    "collapsed": false
   },
   "outputs": [
    {
     "name": "stdout",
     "output_type": "stream",
     "text": [
      "0.5\n"
     ]
    }
   ],
   "source": [
    "prob_space = {'sunny': 1/2, 'rainy': 1/6, 'snowy': 1/3}\n",
    "rainy_or_snowy_event = {'rainy', 'snowy'}\n",
    "print(prob_event(rainy_or_snowy_event, prob_space))\n"
   ]
  },
  {
   "cell_type": "code",
   "execution_count": 17,
   "metadata": {
    "collapsed": false
   },
   "outputs": [
    {
     "name": "stdout",
     "output_type": "stream",
     "text": [
      "0.8\n"
     ]
    }
   ],
   "source": [
    "#Exercise\n",
    "model = {'benign': 0.3, 'malignant': 0.5, 'not sure': 0.2}\n",
    "test = {'benign', 'malignant'}\n",
    "print(prob_event(test, model))\n"
   ]
  },
  {
   "cell_type": "code",
   "execution_count": null,
   "metadata": {
    "collapsed": true
   },
   "outputs": [],
   "source": []
  }
 ],
 "metadata": {
  "anaconda-cloud": {},
  "kernelspec": {
   "display_name": "Python [py35]",
   "language": "python",
   "name": "Python [py35]"
  },
  "language_info": {
   "codemirror_mode": {
    "name": "ipython",
    "version": 3
   },
   "file_extension": ".py",
   "mimetype": "text/x-python",
   "name": "python",
   "nbconvert_exporter": "python",
   "pygments_lexer": "ipython3",
   "version": "3.5.1"
  }
 },
 "nbformat": 4,
 "nbformat_minor": 0
}
